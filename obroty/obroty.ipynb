{
 "cells": [
  {
   "cell_type": "code",
   "execution_count": 7,
   "metadata": {},
   "outputs": [],
   "source": [
    "from PIL import Image\n",
    "import numpy as np\n",
    "import math\n",
    "image_size = 512\n",
    "canvas_size = 724\n",
    "offset = int((canvas_size-image_size)/2)"
   ]
  },
  {
   "cell_type": "code",
   "execution_count": 8,
   "metadata": {},
   "outputs": [],
   "source": [
    "image = Image.open('lena.jpg')\n",
    "np_img = np.array(image)\n",
    "canvas = np.zeros((canvas_size,canvas_size),dtype=int)\n",
    "map_positions = []\n"
   ]
  },
  {
   "cell_type": "code",
   "execution_count": 9,
   "metadata": {},
   "outputs": [],
   "source": [
    "a=30\n",
    "for y in range(image_size):\n",
    "    for x in range(image_size):\n",
    "        y_p=round((x-256)*math.sin(a) + (y-256)*math.cos(a) +256,3)\n",
    "        x_p=round((x-256)*math.cos(a)-(y-256)*math.sin(a) +256,3)\n",
    "        \n",
    "        map_positions.append([y_p+offset,x_p+offset,np_img[y][x]])\n",
    "        \n",
    "        #canvas[y_p+offset][x_p+offset]=np_img[y][x]\n"
   ]
  },
  {
   "cell_type": "code",
   "execution_count": 10,
   "metadata": {},
   "outputs": [],
   "source": [
    "def fast_bilinear(y,x,Qh):\n",
    "    y_p=round((x-256)*math.sin(a) + (y-256)*math.cos(a) +256,3)\n",
    "    x_p=round((x-256)*math.cos(a)-(y-256)*math.sin(a) +256,3)\n",
    "    for point in Qh:\n",
    "        if point []\n",
    "    #Q12=[]\n",
    "    #Q21=[]\n",
    "    #Q22=[]"
   ]
  },
  {
   "cell_type": "code",
   "execution_count": 11,
   "metadata": {},
   "outputs": [],
   "source": [
    "\n",
    "\n",
    "def bilinear(y,x,Q):\n",
    "    def getCloesestPoint(yh,xh,Qh):\n",
    "        distances = np.linalg.norm(np.delete(Qh, 2, 1)-np.array((yh,xh)), axis=1)\n",
    "        Qh=Qh[np.argmin(distances)]\n",
    "        return Qh\n",
    "    Q11=[]\n",
    "    Q12=[]\n",
    "    Q21=[]\n",
    "    Q22=[]\n",
    "    for point in Q:\n",
    "        if point[0]<y and point[1]<x:\n",
    "            Q11.append(point)\n",
    "        if point[0]>y and point[1]<x:\n",
    "            Q12.append(point)\n",
    "        if point[0]<y and point[1]>x:\n",
    "            Q21.append(point)\n",
    "        if point[0]>y and point[1]>x:\n",
    "            Q22.append(point)\n",
    "    if len(Q11)==0 or len(Q12)==0 or len(Q21)==0 or len(Q22)==0:\n",
    "        return 0\n",
    "    Q11=getCloesestPoint(y,x,Q11)\n",
    "    Q21=getCloesestPoint(y,x,Q21)\n",
    "    \n",
    "\n",
    "    R1 = ((Q21[1]-x)/(Q21[1]-Q11[1]))*Q11[2]+((x-Q11[1])/(Q21[1]-Q11[1]))*Q21[2]\n",
    "\n",
    "\n",
    "    Q12=getCloesestPoint(y,x,Q12)\n",
    "    Q22=getCloesestPoint(y,x,Q22)\n",
    "    R2 = ((Q22[1]-x)/(Q22[1]-Q12[1]))*Q12[2]+((x-Q12[1])/(Q22[1]-Q12[1]))*Q22[2]\n",
    "\n",
    "    f = ((Q12[0]-y)/(Q12[0]-Q11[0]))*R1+((y-Q11[0])/(Q12[0]-Q11[0]))*R2\n",
    "    #print(f\"the closest point is {Q11[min_index]}, at a distance of {distances[min_index]}\")\n",
    "        \n",
    "    return int(f)"
   ]
  },
  {
   "cell_type": "code",
   "execution_count": 12,
   "metadata": {},
   "outputs": [],
   "source": [
    "#np.savetxt(\"foo.csv\", map_positions, delimiter=\",\")"
   ]
  },
  {
   "cell_type": "code",
   "execution_count": 13,
   "metadata": {},
   "outputs": [
    {
     "data": {
      "text/plain": [
       "list"
      ]
     },
     "execution_count": 13,
     "metadata": {},
     "output_type": "execute_result"
    }
   ],
   "source": [
    "type(map_positions)"
   ]
  },
  {
   "cell_type": "code",
   "execution_count": 14,
   "metadata": {},
   "outputs": [
    {
     "data": {
      "text/plain": [
       "80"
      ]
     },
     "execution_count": 14,
     "metadata": {},
     "output_type": "execute_result"
    }
   ],
   "source": [
    "bilinear(263,120,map_positions)"
   ]
  },
  {
   "cell_type": "code",
   "execution_count": 15,
   "metadata": {},
   "outputs": [],
   "source": [
    "#map_positions = np.asarray(map_positions)\n",
    "#for row in map_positions:\n",
    "#    canvas[int(row[0])][int(row[1])]=int(row[2])"
   ]
  },
  {
   "cell_type": "code",
   "execution_count": null,
   "metadata": {},
   "outputs": [],
   "source": []
  },
  {
   "cell_type": "code",
   "execution_count": 16,
   "metadata": {},
   "outputs": [],
   "source": [
    "\n",
    "#for y in range(len(canvas)):\n",
    "#    if 400<y<600:\n",
    "#        for x in range(len(canvas[0])):\n",
    "#            if 400<x<600:\n",
    "#                canvas[y][x]=bilinear(y,x,map_positions)\n",
    "      "
   ]
  },
  {
   "cell_type": "code",
   "execution_count": 17,
   "metadata": {},
   "outputs": [
    {
     "data": {
      "image/png": "[encoded data removed]",
      "text/plain": [
       "<PIL.Image.Image image mode=L size=724x724>"
      ]
     },
     "execution_count": 17,
     "metadata": {},
     "output_type": "execute_result"
    }
   ],
   "source": [
    "Image.fromarray(canvas.astype('uint8'), 'L')"
   ]
  }
 ],
 "metadata": {
  "kernelspec": {
   "display_name": "Python 3",
   "language": "python",
   "name": "python3"
  },
  "language_info": {
   "codemirror_mode": {
    "name": "ipython",
    "version": 3
   },
   "file_extension": ".py",
   "mimetype": "text/x-python",
   "name": "python",
   "nbconvert_exporter": "python",
   "pygments_lexer": "ipython3",
   "version": "3.11.0"
  },
  "orig_nbformat": 4
 },
 "nbformat": 4,
 "nbformat_minor": 2
}
