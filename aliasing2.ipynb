{
 "cells": [
  {
   "cell_type": "code",
   "execution_count": 58,
   "metadata": {},
   "outputs": [],
   "source": [
    "import itertools\n",
    "\n",
    "import matplotlib.pyplot as plt\n",
    "import matplotlib.animation as animation\n",
    "import numpy as np\n",
    "import math"
   ]
  },
  {
   "cell_type": "code",
   "execution_count": 59,
   "metadata": {},
   "outputs": [],
   "source": [
    "def pointInEquation(X,Y):\n",
    "  \n",
    "  r_1=math.sqrt(Y**2+X**2)\n",
    "  theta=2*math.atan(Y/(r_1+X))\n",
    "\n",
    "  r_2=800*math.sin(3*theta)\n",
    "  \n",
    "\n",
    "  return (math.floor(r_1/10)==math.floor(r_2/10))*1\n",
    "\n",
    "def getPropellerValues(m,speed):\n",
    "    rads = np.arange(0, ( np.pi), 0.01)\n",
    "    values = []\n",
    "    for theta in rads:\n",
    "        r=128*math.sin(3*theta+6*(m/1000)*math.pi*speed)\n",
    "        values.append((round(r*math.sin(theta),0),round(r*math.cos(theta),0)))\n",
    "    return values\n",
    "def drawPropellerWithAlliasing(i,l,speed,fps):\n",
    "    img_X=256\n",
    "    img_Y=256\n",
    "    start_line=int(img_Y/2)\n",
    "    line_reading_time=(1/(fps*(img_Y/l)))*1000\n",
    "\n",
    "    act_time=i\n",
    "    snapshot=[]\n",
    "    while(start_line>=-img_Y/2):\n",
    "        propeller_values=getPropellerValues(act_time,speed) #aktualne wartości wiatraczka\n",
    "        for pixel_Y in range(start_line,min(start_line+l,img_Y),1):\n",
    "            for pixel_X in range(int(-img_X/2),int(img_X/2),1) :\n",
    "                if (pixel_X,pixel_Y) in propeller_values:\n",
    "                    snapshot.append((pixel_X,pixel_Y))\n",
    "        start_line=start_line-l\n",
    "        act_time=act_time+line_reading_time\n",
    "    return snapshot"
   ]
  },
  {
   "cell_type": "code",
   "execution_count": 60,
   "metadata": {},
   "outputs": [],
   "source": [
    "def drawPropellerWithAlliasingDrawingSteps(i,l,speed,fps):\n",
    "    img_X=256\n",
    "    img_Y=256\n",
    "    start_line=int(img_Y/2)\n",
    "    line_reading_time=(1/(fps*(img_Y/l)))*1000\n",
    "\n",
    "    act_time=i\n",
    "    snapshot=[]\n",
    "    animation=[]\n",
    "    while(start_line>=-img_Y/2):\n",
    "        propeller_values=getPropellerValues(act_time,speed) #aktualne wartości wiatraczka\n",
    "        for pixel_Y in range(start_line,min(start_line+l,img_Y),1):\n",
    "            for pixel_X in range(int(-img_X/2),int(img_X/2),1) :\n",
    "                if (pixel_X,pixel_Y) in propeller_values:\n",
    "                    snapshot.append((pixel_X,pixel_Y))\n",
    "        start_line=start_line-l\n",
    "        act_time=act_time+line_reading_time\n",
    "        animation.append(snapshot[:])\n",
    "    return animation"
   ]
  },
  {
   "cell_type": "code",
   "execution_count": 61,
   "metadata": {},
   "outputs": [
    {
     "name": "stdout",
     "output_type": "stream",
     "text": [
      "Unexpected exception formatting exception. Falling back to standard exception\n"
     ]
    },
    {
     "name": "stderr",
     "output_type": "stream",
     "text": [
      "Traceback (most recent call last):\n",
      "  File \"C:\\Users\\firat_d\\AppData\\Roaming\\Python\\Python311\\site-packages\\IPython\\core\\interactiveshell.py\", line 3460, in run_code\n",
      "    exec(code_obj, self.user_global_ns, self.user_ns)\n",
      "  File \"C:\\Users\\firat_d\\AppData\\Local\\Temp\\ipykernel_22608\\247954855.py\", line 25, in <module>\n",
      "    ani.save('scatter.gif', writer='pillow')\n",
      "  File \"c:\\Users\\firat_d\\AppData\\Local\\Programs\\Python\\Python311\\Lib\\site-packages\\matplotlib\\animation.py\", line 1081, in save\n",
      "    anim._draw_next_frame(d, blit=False)\n",
      "  File \"c:\\Users\\firat_d\\AppData\\Local\\Programs\\Python\\Python311\\Lib\\site-packages\\matplotlib\\animation.py\", line 1116, in _draw_next_frame\n",
      "    self._draw_frame(framedata)\n",
      "  File \"c:\\Users\\firat_d\\AppData\\Local\\Programs\\Python\\Python311\\Lib\\site-packages\\matplotlib\\animation.py\", line 1743, in _draw_frame\n",
      "    self._drawn_artists = self._func(framedata, *self._args)\n",
      "                          ^^^^^^^^^^^^^^^^^^^^^^^^^^^^^^^^^^\n",
      "  File \"C:\\Users\\firat_d\\AppData\\Local\\Temp\\ipykernel_22608\\247954855.py\", line 18, in update\n",
      "    ax.scatter(*zip(*drawPropellerWithAlliasing(i*interval,1,(i/(30*3)),fps=fps)),s=1)\n",
      "                     ^^^^^^^^^^^^^^^^^^^^^^^^^^^^^^^^^^^^^^^^^^^^^^^^^^^^^^^^^^^\n",
      "  File \"C:\\Users\\firat_d\\AppData\\Local\\Temp\\ipykernel_22608\\1240260058.py\", line -1, in drawPropellerWithAlliasing\n",
      "KeyboardInterrupt\n",
      "\n",
      "During handling of the above exception, another exception occurred:\n",
      "\n",
      "Traceback (most recent call last):\n",
      "  File \"C:\\Users\\firat_d\\AppData\\Roaming\\Python\\Python311\\site-packages\\IPython\\core\\interactiveshell.py\", line 2057, in showtraceback\n",
      "    stb = self.InteractiveTB.structured_traceback(\n",
      "          ^^^^^^^^^^^^^^^^^^^^^^^^^^^^^^^^^^^^^^^^\n",
      "  File \"C:\\Users\\firat_d\\AppData\\Roaming\\Python\\Python311\\site-packages\\IPython\\core\\ultratb.py\", line 1118, in structured_traceback\n",
      "    return FormattedTB.structured_traceback(\n",
      "           ^^^^^^^^^^^^^^^^^^^^^^^^^^^^^^^^^\n",
      "  File \"C:\\Users\\firat_d\\AppData\\Roaming\\Python\\Python311\\site-packages\\IPython\\core\\ultratb.py\", line 1012, in structured_traceback\n",
      "    return VerboseTB.structured_traceback(\n",
      "           ^^^^^^^^^^^^^^^^^^^^^^^^^^^^^^^\n",
      "  File \"C:\\Users\\firat_d\\AppData\\Roaming\\Python\\Python311\\site-packages\\IPython\\core\\ultratb.py\", line 865, in structured_traceback\n",
      "    formatted_exception = self.format_exception_as_a_whole(etype, evalue, etb, number_of_lines_of_context,\n",
      "                          ^^^^^^^^^^^^^^^^^^^^^^^^^^^^^^^^^^^^^^^^^^^^^^^^^^^^^^^^^^^^^^^^^^^^^^^^^^^^^^^^\n",
      "  File \"C:\\Users\\firat_d\\AppData\\Roaming\\Python\\Python311\\site-packages\\IPython\\core\\ultratb.py\", line 818, in format_exception_as_a_whole\n",
      "    frames.append(self.format_record(r))\n",
      "                  ^^^^^^^^^^^^^^^^^^^^^\n",
      "  File \"C:\\Users\\firat_d\\AppData\\Roaming\\Python\\Python311\\site-packages\\IPython\\core\\ultratb.py\", line 736, in format_record\n",
      "    result += ''.join(_format_traceback_lines(frame_info.lines, Colors, self.has_colors, lvals))\n",
      "                                              ^^^^^^^^^^^^^^^^\n",
      "  File \"C:\\Users\\firat_d\\AppData\\Roaming\\Python\\Python311\\site-packages\\stack_data\\utils.py\", line 144, in cached_property_wrapper\n",
      "    value = obj.__dict__[self.func.__name__] = self.func(obj)\n",
      "                                               ^^^^^^^^^^^^^^\n",
      "  File \"C:\\Users\\firat_d\\AppData\\Roaming\\Python\\Python311\\site-packages\\stack_data\\core.py\", line 734, in lines\n",
      "    pieces = self.included_pieces\n",
      "             ^^^^^^^^^^^^^^^^^^^^\n",
      "  File \"C:\\Users\\firat_d\\AppData\\Roaming\\Python\\Python311\\site-packages\\stack_data\\utils.py\", line 144, in cached_property_wrapper\n",
      "    value = obj.__dict__[self.func.__name__] = self.func(obj)\n",
      "                                               ^^^^^^^^^^^^^^\n",
      "  File \"C:\\Users\\firat_d\\AppData\\Roaming\\Python\\Python311\\site-packages\\stack_data\\core.py\", line 681, in included_pieces\n",
      "    pos = scope_pieces.index(self.executing_piece)\n",
      "                             ^^^^^^^^^^^^^^^^^^^^\n",
      "  File \"C:\\Users\\firat_d\\AppData\\Roaming\\Python\\Python311\\site-packages\\stack_data\\utils.py\", line 144, in cached_property_wrapper\n",
      "    value = obj.__dict__[self.func.__name__] = self.func(obj)\n",
      "                                               ^^^^^^^^^^^^^^\n",
      "  File \"C:\\Users\\firat_d\\AppData\\Roaming\\Python\\Python311\\site-packages\\stack_data\\core.py\", line 660, in executing_piece\n",
      "    return only(\n",
      "           ^^^^^\n",
      "  File \"C:\\Users\\firat_d\\AppData\\Roaming\\Python\\Python311\\site-packages\\executing\\executing.py\", line 190, in only\n",
      "    raise NotOneValueFound('Expected one value, found 0')\n",
      "executing.executing.NotOneValueFound: Expected one value, found 0\n"
     ]
    },
    {
     "data": {
      "image/png": "[encoded data removed]",
      "text/plain": [
       "<Figure size 500x500 with 1 Axes>"
      ]
     },
     "metadata": {},
     "output_type": "display_data"
    }
   ],
   "source": [
    "\n",
    "\n",
    "# set parameters\n",
    "seconds=18\n",
    "fps=30\n",
    "frames = fps*seconds\n",
    "rps=1\n",
    "interval=1000/fps\n",
    "\n",
    "\n",
    "\n",
    "fig, ax = plt.subplots(figsize=(5,5))\n",
    "plt.xlim(0, 60)\n",
    "plt.ylim(0, 60)\n",
    "def update(i):\n",
    "    # clear the axis each frame\n",
    "    ax.clear()\n",
    "    # replot things\n",
    "    \n",
    "    ax.scatter(*zip(*drawPropellerWithAlliasing(i*interval,1,(i/(30*3)),fps=fps)),s=1)\n",
    "    ax.text(70,-120,\"RPS: \" + str((i/(30))), fontsize=15)\n",
    "    ax.set_xlim((-128,128))\n",
    "    ax.set_ylim((-128,128))\n",
    "\n",
    "\n",
    "ani = animation.FuncAnimation(fig, update, frames=frames, interval=interval)\n",
    "ani.save('scatter.gif', writer='pillow')"
   ]
  },
  {
   "cell_type": "code",
   "execution_count": 63,
   "metadata": {},
   "outputs": [],
   "source": [
    "l=1\n",
    "animation_frames=drawPropellerWithAlliasingDrawingSteps(220,l,5,fps=fps)"
   ]
  },
  {
   "cell_type": "code",
   "execution_count": 66,
   "metadata": {},
   "outputs": [
    {
     "name": "stdout",
     "output_type": "stream",
     "text": [
      "257\n"
     ]
    },
    {
     "data": {
      "image/png": "[encoded data removed]",
      "text/plain": [
       "<Figure size 500x500 with 1 Axes>"
      ]
     },
     "metadata": {},
     "output_type": "display_data"
    }
   ],
   "source": [
    "seconds=18\n",
    "fps=30\n",
    "\n",
    "frames =len(animation_frames)\n",
    "rps=1\n",
    "interval=1\n",
    "print(frames)\n",
    "line_reading_time=(1/(fps*(256/l)))*1000\n",
    "\n",
    "fig, ax = plt.subplots(figsize=(5,5))\n",
    "plt.xlim(0, 60)\n",
    "plt.ylim(0, 60)\n",
    "def update(i):\n",
    "    # clear the axis each frame\n",
    "    ax.clear()\n",
    "    # replot things\n",
    "    if (len(animation_frames[i])):\n",
    "        ax.scatter(*zip(*animation_frames[i]),s=1)\n",
    "    ax.scatter(*zip(*getPropellerValues(220+(i*line_reading_time),5)),s=0.1,c=\"red\",alpha=0.3)\n",
    "    plt.axhline(y = 128-i, color = 'r', linestyle = '-')\n",
    "\n",
    "    ax.set_xlim((-128,128))\n",
    "    ax.set_ylim((-128,128))\n",
    "\n",
    "\n",
    "ani = animation.FuncAnimation(fig, update, frames=frames, interval=interval)\n",
    "ani.save('scatter.gif', writer='pillow')"
   ]
  }
 ],
 "metadata": {
  "kernelspec": {
   "display_name": "Python 3",
   "language": "python",
   "name": "python3"
  },
  "language_info": {
   "codemirror_mode": {
    "name": "ipython",
    "version": 3
   },
   "file_extension": ".py",
   "mimetype": "text/x-python",
   "name": "python",
   "nbconvert_exporter": "python",
   "pygments_lexer": "ipython3",
   "version": "3.11.1"
  },
  "orig_nbformat": 4
 },
 "nbformat": 4,
 "nbformat_minor": 2
}
